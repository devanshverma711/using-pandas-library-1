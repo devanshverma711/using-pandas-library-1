{
 "cells": [
  {
   "cell_type": "code",
   "execution_count": 73,
   "metadata": {},
   "outputs": [],
   "source": [
    "import pandas as pd\n",
    "import numpy as np\n",
    "import matplotlib.pyplot as plt \n",
    "import seaborn as sns \n",
    "from pandas.plotting import scatter_matrix\n"
   ]
  },
  {
   "cell_type": "code",
   "execution_count": 74,
   "metadata": {},
   "outputs": [],
   "source": [
    "df=pd.read_csv(r\"C:\\Users\\devan\\Downloads\\stu123.csv\")\n",
    "dp=pd.read_csv(r\"C:\\Users\\devan\\Downloads\\stu456.csv\")"
   ]
  },
  {
   "cell_type": "code",
   "execution_count": 75,
   "metadata": {},
   "outputs": [],
   "source": [
    "df1=pd.merge(df,dp,on=\"Name\")"
   ]
  },
  {
   "cell_type": "code",
   "execution_count": 76,
   "metadata": {},
   "outputs": [
    {
     "data": {
      "text/html": [
       "<div>\n",
       "<style scoped>\n",
       "    .dataframe tbody tr th:only-of-type {\n",
       "        vertical-align: middle;\n",
       "    }\n",
       "\n",
       "    .dataframe tbody tr th {\n",
       "        vertical-align: top;\n",
       "    }\n",
       "\n",
       "    .dataframe thead th {\n",
       "        text-align: right;\n",
       "    }\n",
       "</style>\n",
       "<table border=\"1\" class=\"dataframe\">\n",
       "  <thead>\n",
       "    <tr style=\"text-align: right;\">\n",
       "      <th></th>\n",
       "      <th>Roll no</th>\n",
       "      <th>Name</th>\n",
       "      <th>Gender</th>\n",
       "      <th>Sem</th>\n",
       "      <th>Batch</th>\n",
       "      <th>Sub1</th>\n",
       "      <th>Sub2</th>\n",
       "      <th>Sub3</th>\n",
       "      <th>Sub4</th>\n",
       "      <th>Sub5</th>\n",
       "      <th>Sub6</th>\n",
       "    </tr>\n",
       "  </thead>\n",
       "  <tbody>\n",
       "    <tr>\n",
       "      <th>0</th>\n",
       "      <td>1</td>\n",
       "      <td>NISHA</td>\n",
       "      <td>F</td>\n",
       "      <td>3</td>\n",
       "      <td>A</td>\n",
       "      <td>60.0</td>\n",
       "      <td>48</td>\n",
       "      <td>74</td>\n",
       "      <td>56.0</td>\n",
       "      <td>51</td>\n",
       "      <td>78</td>\n",
       "    </tr>\n",
       "    <tr>\n",
       "      <th>1</th>\n",
       "      <td>2</td>\n",
       "      <td>PRATYUSH</td>\n",
       "      <td>M</td>\n",
       "      <td>3</td>\n",
       "      <td>A</td>\n",
       "      <td>57.0</td>\n",
       "      <td>50</td>\n",
       "      <td>39</td>\n",
       "      <td>48.0</td>\n",
       "      <td>50</td>\n",
       "      <td>54</td>\n",
       "    </tr>\n",
       "    <tr>\n",
       "      <th>2</th>\n",
       "      <td>3</td>\n",
       "      <td>PUNEET</td>\n",
       "      <td>M</td>\n",
       "      <td>3</td>\n",
       "      <td>A</td>\n",
       "      <td>NaN</td>\n",
       "      <td>65</td>\n",
       "      <td>43</td>\n",
       "      <td>56.0</td>\n",
       "      <td>65</td>\n",
       "      <td>49</td>\n",
       "    </tr>\n",
       "    <tr>\n",
       "      <th>3</th>\n",
       "      <td>4</td>\n",
       "      <td>RAHUL</td>\n",
       "      <td>M</td>\n",
       "      <td>3</td>\n",
       "      <td>B</td>\n",
       "      <td>55.0</td>\n",
       "      <td>55</td>\n",
       "      <td>44</td>\n",
       "      <td>55.0</td>\n",
       "      <td>12</td>\n",
       "      <td>44</td>\n",
       "    </tr>\n",
       "    <tr>\n",
       "      <th>4</th>\n",
       "      <td>5</td>\n",
       "      <td>AKANSHA</td>\n",
       "      <td>F</td>\n",
       "      <td>3</td>\n",
       "      <td>B</td>\n",
       "      <td>59.0</td>\n",
       "      <td>45</td>\n",
       "      <td>47</td>\n",
       "      <td>58.0</td>\n",
       "      <td>45</td>\n",
       "      <td>48</td>\n",
       "    </tr>\n",
       "  </tbody>\n",
       "</table>\n",
       "</div>"
      ],
      "text/plain": [
       "   Roll no       Name Gender  Sem Batch  Sub1  Sub2  Sub3  Sub4  Sub5  Sub6\n",
       "0        1      NISHA      F    3     A  60.0    48    74  56.0    51    78\n",
       "1        2  PRATYUSH       M    3     A  57.0    50    39  48.0    50    54\n",
       "2        3    PUNEET       M    3     A   NaN    65    43  56.0    65    49\n",
       "3        4     RAHUL       M    3     B  55.0    55    44  55.0    12    44\n",
       "4        5    AKANSHA      F    3     B  59.0    45    47  58.0    45    48"
      ]
     },
     "execution_count": 76,
     "metadata": {},
     "output_type": "execute_result"
    }
   ],
   "source": [
    "df1.head()"
   ]
  },
  {
   "cell_type": "code",
   "execution_count": 77,
   "metadata": {},
   "outputs": [],
   "source": [
    "#Clean data if required\n",
    "to_drop = ['Sub4','Sub5','Sub6']\n",
    "df1.drop(to_drop, inplace=True, axis=1)"
   ]
  },
  {
   "cell_type": "code",
   "execution_count": 78,
   "metadata": {},
   "outputs": [
    {
     "data": {
      "text/html": [
       "<div>\n",
       "<style scoped>\n",
       "    .dataframe tbody tr th:only-of-type {\n",
       "        vertical-align: middle;\n",
       "    }\n",
       "\n",
       "    .dataframe tbody tr th {\n",
       "        vertical-align: top;\n",
       "    }\n",
       "\n",
       "    .dataframe thead th {\n",
       "        text-align: right;\n",
       "    }\n",
       "</style>\n",
       "<table border=\"1\" class=\"dataframe\">\n",
       "  <thead>\n",
       "    <tr style=\"text-align: right;\">\n",
       "      <th></th>\n",
       "      <th>Roll no</th>\n",
       "      <th>Name</th>\n",
       "      <th>Gender</th>\n",
       "      <th>Sem</th>\n",
       "      <th>Batch</th>\n",
       "      <th>Sub1</th>\n",
       "      <th>Sub2</th>\n",
       "      <th>Sub3</th>\n",
       "    </tr>\n",
       "  </thead>\n",
       "  <tbody>\n",
       "    <tr>\n",
       "      <th>0</th>\n",
       "      <td>1</td>\n",
       "      <td>NISHA</td>\n",
       "      <td>F</td>\n",
       "      <td>3</td>\n",
       "      <td>A</td>\n",
       "      <td>60.0</td>\n",
       "      <td>48</td>\n",
       "      <td>74</td>\n",
       "    </tr>\n",
       "    <tr>\n",
       "      <th>1</th>\n",
       "      <td>2</td>\n",
       "      <td>PRATYUSH</td>\n",
       "      <td>M</td>\n",
       "      <td>3</td>\n",
       "      <td>A</td>\n",
       "      <td>57.0</td>\n",
       "      <td>50</td>\n",
       "      <td>39</td>\n",
       "    </tr>\n",
       "    <tr>\n",
       "      <th>2</th>\n",
       "      <td>3</td>\n",
       "      <td>PUNEET</td>\n",
       "      <td>M</td>\n",
       "      <td>3</td>\n",
       "      <td>A</td>\n",
       "      <td>NaN</td>\n",
       "      <td>65</td>\n",
       "      <td>43</td>\n",
       "    </tr>\n",
       "    <tr>\n",
       "      <th>3</th>\n",
       "      <td>4</td>\n",
       "      <td>RAHUL</td>\n",
       "      <td>M</td>\n",
       "      <td>3</td>\n",
       "      <td>B</td>\n",
       "      <td>55.0</td>\n",
       "      <td>55</td>\n",
       "      <td>44</td>\n",
       "    </tr>\n",
       "    <tr>\n",
       "      <th>4</th>\n",
       "      <td>5</td>\n",
       "      <td>AKANSHA</td>\n",
       "      <td>F</td>\n",
       "      <td>3</td>\n",
       "      <td>B</td>\n",
       "      <td>59.0</td>\n",
       "      <td>45</td>\n",
       "      <td>47</td>\n",
       "    </tr>\n",
       "  </tbody>\n",
       "</table>\n",
       "</div>"
      ],
      "text/plain": [
       "   Roll no       Name Gender  Sem Batch  Sub1  Sub2  Sub3\n",
       "0        1      NISHA      F    3     A  60.0    48    74\n",
       "1        2  PRATYUSH       M    3     A  57.0    50    39\n",
       "2        3    PUNEET       M    3     A   NaN    65    43\n",
       "3        4     RAHUL       M    3     B  55.0    55    44\n",
       "4        5    AKANSHA      F    3     B  59.0    45    47"
      ]
     },
     "execution_count": 78,
     "metadata": {},
     "output_type": "execute_result"
    }
   ],
   "source": [
    "df1.head()"
   ]
  },
  {
   "cell_type": "code",
   "execution_count": 83,
   "metadata": {},
   "outputs": [
    {
     "data": {
      "text/plain": [
       "0     60.000000\n",
       "1     57.000000\n",
       "2     51.058824\n",
       "3     55.000000\n",
       "4     59.000000\n",
       "5     53.000000\n",
       "6     48.000000\n",
       "7     44.000000\n",
       "8     41.000000\n",
       "9     43.000000\n",
       "10    55.000000\n",
       "11    50.000000\n",
       "12    58.000000\n",
       "13    59.000000\n",
       "14    51.000000\n",
       "15    42.000000\n",
       "16    40.000000\n",
       "17    53.000000\n",
       "Name: Sub1, dtype: float64"
      ]
     },
     "execution_count": 83,
     "metadata": {},
     "output_type": "execute_result"
    }
   ],
   "source": [
    "df[\"Sub1\"].fillna(df['Sub1'].mean()) "
   ]
  },
  {
   "cell_type": "code",
   "execution_count": 84,
   "metadata": {},
   "outputs": [
    {
     "data": {
      "text/plain": [
       "Roll no    0\n",
       "Name       0\n",
       "Gender     0\n",
       "Sem        0\n",
       "Batch      0\n",
       "Sub1       1\n",
       "Sub2       0\n",
       "Sub3       0\n",
       "dtype: int64"
      ]
     },
     "execution_count": 84,
     "metadata": {},
     "output_type": "execute_result"
    }
   ],
   "source": [
    "df.isnull().sum()"
   ]
  },
  {
   "cell_type": "code",
   "execution_count": 85,
   "metadata": {},
   "outputs": [
    {
     "data": {
      "text/html": [
       "<div>\n",
       "<style scoped>\n",
       "    .dataframe tbody tr th:only-of-type {\n",
       "        vertical-align: middle;\n",
       "    }\n",
       "\n",
       "    .dataframe tbody tr th {\n",
       "        vertical-align: top;\n",
       "    }\n",
       "\n",
       "    .dataframe thead th {\n",
       "        text-align: right;\n",
       "    }\n",
       "</style>\n",
       "<table border=\"1\" class=\"dataframe\">\n",
       "  <thead>\n",
       "    <tr style=\"text-align: right;\">\n",
       "      <th></th>\n",
       "      <th>Roll no</th>\n",
       "      <th>Sub1</th>\n",
       "      <th>Sub2</th>\n",
       "      <th>Sub3</th>\n",
       "      <th>Total</th>\n",
       "      <th>Percentage</th>\n",
       "    </tr>\n",
       "    <tr>\n",
       "      <th>Sem</th>\n",
       "      <th></th>\n",
       "      <th></th>\n",
       "      <th></th>\n",
       "      <th></th>\n",
       "      <th></th>\n",
       "      <th></th>\n",
       "    </tr>\n",
       "  </thead>\n",
       "  <tbody>\n",
       "    <tr>\n",
       "      <th>3</th>\n",
       "      <td>5.0</td>\n",
       "      <td>52.125000</td>\n",
       "      <td>52.777778</td>\n",
       "      <td>51.888889</td>\n",
       "      <td>156.375000</td>\n",
       "      <td>52.125000</td>\n",
       "    </tr>\n",
       "    <tr>\n",
       "      <th>5</th>\n",
       "      <td>14.0</td>\n",
       "      <td>50.111111</td>\n",
       "      <td>53.000000</td>\n",
       "      <td>48.666667</td>\n",
       "      <td>151.777778</td>\n",
       "      <td>50.591111</td>\n",
       "    </tr>\n",
       "  </tbody>\n",
       "</table>\n",
       "</div>"
      ],
      "text/plain": [
       "     Roll no       Sub1       Sub2       Sub3       Total  Percentage\n",
       "Sem                                                                  \n",
       "3        5.0  52.125000  52.777778  51.888889  156.375000   52.125000\n",
       "5       14.0  50.111111  53.000000  48.666667  151.777778   50.591111"
      ]
     },
     "execution_count": 85,
     "metadata": {},
     "output_type": "execute_result"
    }
   ],
   "source": [
    "#Apply group by functions\n",
    "df1.groupby(\"Sem\").mean()"
   ]
  },
  {
   "cell_type": "code",
   "execution_count": 86,
   "metadata": {},
   "outputs": [
    {
     "data": {
      "text/html": [
       "<div>\n",
       "<style scoped>\n",
       "    .dataframe tbody tr th:only-of-type {\n",
       "        vertical-align: middle;\n",
       "    }\n",
       "\n",
       "    .dataframe tbody tr th {\n",
       "        vertical-align: top;\n",
       "    }\n",
       "\n",
       "    .dataframe thead th {\n",
       "        text-align: right;\n",
       "    }\n",
       "</style>\n",
       "<table border=\"1\" class=\"dataframe\">\n",
       "  <thead>\n",
       "    <tr style=\"text-align: right;\">\n",
       "      <th></th>\n",
       "      <th>Roll no</th>\n",
       "      <th>Name</th>\n",
       "      <th>Gender</th>\n",
       "      <th>Sem</th>\n",
       "      <th>Batch</th>\n",
       "      <th>Sub1</th>\n",
       "      <th>Sub2</th>\n",
       "      <th>Sub3</th>\n",
       "      <th>Total</th>\n",
       "      <th>Percentage</th>\n",
       "      <th>Result</th>\n",
       "    </tr>\n",
       "  </thead>\n",
       "  <tbody>\n",
       "    <tr>\n",
       "      <th>0</th>\n",
       "      <td>1</td>\n",
       "      <td>NISHA</td>\n",
       "      <td>F</td>\n",
       "      <td>3</td>\n",
       "      <td>A</td>\n",
       "      <td>60.0</td>\n",
       "      <td>48</td>\n",
       "      <td>74</td>\n",
       "      <td>182.0</td>\n",
       "      <td>60.67</td>\n",
       "      <td>GOOD</td>\n",
       "    </tr>\n",
       "    <tr>\n",
       "      <th>1</th>\n",
       "      <td>2</td>\n",
       "      <td>PRATYUSH</td>\n",
       "      <td>M</td>\n",
       "      <td>3</td>\n",
       "      <td>A</td>\n",
       "      <td>57.0</td>\n",
       "      <td>50</td>\n",
       "      <td>39</td>\n",
       "      <td>146.0</td>\n",
       "      <td>48.67</td>\n",
       "      <td>BAD</td>\n",
       "    </tr>\n",
       "    <tr>\n",
       "      <th>2</th>\n",
       "      <td>3</td>\n",
       "      <td>PUNEET</td>\n",
       "      <td>M</td>\n",
       "      <td>3</td>\n",
       "      <td>A</td>\n",
       "      <td>NaN</td>\n",
       "      <td>65</td>\n",
       "      <td>43</td>\n",
       "      <td>NaN</td>\n",
       "      <td>NaN</td>\n",
       "      <td>BAD</td>\n",
       "    </tr>\n",
       "    <tr>\n",
       "      <th>3</th>\n",
       "      <td>4</td>\n",
       "      <td>RAHUL</td>\n",
       "      <td>M</td>\n",
       "      <td>3</td>\n",
       "      <td>B</td>\n",
       "      <td>55.0</td>\n",
       "      <td>55</td>\n",
       "      <td>44</td>\n",
       "      <td>154.0</td>\n",
       "      <td>51.33</td>\n",
       "      <td>GOOD</td>\n",
       "    </tr>\n",
       "    <tr>\n",
       "      <th>4</th>\n",
       "      <td>5</td>\n",
       "      <td>AKANSHA</td>\n",
       "      <td>F</td>\n",
       "      <td>3</td>\n",
       "      <td>B</td>\n",
       "      <td>59.0</td>\n",
       "      <td>45</td>\n",
       "      <td>47</td>\n",
       "      <td>151.0</td>\n",
       "      <td>50.33</td>\n",
       "      <td>GOOD</td>\n",
       "    </tr>\n",
       "    <tr>\n",
       "      <th>5</th>\n",
       "      <td>6</td>\n",
       "      <td>RISHABH</td>\n",
       "      <td>M</td>\n",
       "      <td>3</td>\n",
       "      <td>B</td>\n",
       "      <td>53.0</td>\n",
       "      <td>51</td>\n",
       "      <td>55</td>\n",
       "      <td>159.0</td>\n",
       "      <td>53.00</td>\n",
       "      <td>GOOD</td>\n",
       "    </tr>\n",
       "    <tr>\n",
       "      <th>6</th>\n",
       "      <td>7</td>\n",
       "      <td>ROHIT</td>\n",
       "      <td>M</td>\n",
       "      <td>3</td>\n",
       "      <td>C</td>\n",
       "      <td>48.0</td>\n",
       "      <td>54</td>\n",
       "      <td>62</td>\n",
       "      <td>164.0</td>\n",
       "      <td>54.67</td>\n",
       "      <td>GOOD</td>\n",
       "    </tr>\n",
       "    <tr>\n",
       "      <th>7</th>\n",
       "      <td>8</td>\n",
       "      <td>SAKSHI</td>\n",
       "      <td>F</td>\n",
       "      <td>3</td>\n",
       "      <td>C</td>\n",
       "      <td>44.0</td>\n",
       "      <td>46</td>\n",
       "      <td>40</td>\n",
       "      <td>130.0</td>\n",
       "      <td>43.33</td>\n",
       "      <td>BAD</td>\n",
       "    </tr>\n",
       "    <tr>\n",
       "      <th>8</th>\n",
       "      <td>9</td>\n",
       "      <td>SARTHAK</td>\n",
       "      <td>M</td>\n",
       "      <td>3</td>\n",
       "      <td>C</td>\n",
       "      <td>41.0</td>\n",
       "      <td>61</td>\n",
       "      <td>63</td>\n",
       "      <td>165.0</td>\n",
       "      <td>55.00</td>\n",
       "      <td>GOOD</td>\n",
       "    </tr>\n",
       "    <tr>\n",
       "      <th>9</th>\n",
       "      <td>10</td>\n",
       "      <td>TARA</td>\n",
       "      <td>F</td>\n",
       "      <td>5</td>\n",
       "      <td>A</td>\n",
       "      <td>43.0</td>\n",
       "      <td>61</td>\n",
       "      <td>38</td>\n",
       "      <td>142.0</td>\n",
       "      <td>47.33</td>\n",
       "      <td>BAD</td>\n",
       "    </tr>\n",
       "    <tr>\n",
       "      <th>10</th>\n",
       "      <td>11</td>\n",
       "      <td>SAURAV</td>\n",
       "      <td>M</td>\n",
       "      <td>5</td>\n",
       "      <td>A</td>\n",
       "      <td>55.0</td>\n",
       "      <td>45</td>\n",
       "      <td>39</td>\n",
       "      <td>139.0</td>\n",
       "      <td>46.33</td>\n",
       "      <td>BAD</td>\n",
       "    </tr>\n",
       "    <tr>\n",
       "      <th>11</th>\n",
       "      <td>12</td>\n",
       "      <td>SWDHA</td>\n",
       "      <td>F</td>\n",
       "      <td>5</td>\n",
       "      <td>A</td>\n",
       "      <td>50.0</td>\n",
       "      <td>49</td>\n",
       "      <td>52</td>\n",
       "      <td>151.0</td>\n",
       "      <td>50.33</td>\n",
       "      <td>GOOD</td>\n",
       "    </tr>\n",
       "    <tr>\n",
       "      <th>12</th>\n",
       "      <td>13</td>\n",
       "      <td>SHIVAM</td>\n",
       "      <td>M</td>\n",
       "      <td>5</td>\n",
       "      <td>B</td>\n",
       "      <td>58.0</td>\n",
       "      <td>58</td>\n",
       "      <td>65</td>\n",
       "      <td>181.0</td>\n",
       "      <td>60.33</td>\n",
       "      <td>GOOD</td>\n",
       "    </tr>\n",
       "    <tr>\n",
       "      <th>13</th>\n",
       "      <td>14</td>\n",
       "      <td>SNEHA</td>\n",
       "      <td>F</td>\n",
       "      <td>5</td>\n",
       "      <td>B</td>\n",
       "      <td>59.0</td>\n",
       "      <td>63</td>\n",
       "      <td>49</td>\n",
       "      <td>171.0</td>\n",
       "      <td>57.00</td>\n",
       "      <td>GOOD</td>\n",
       "    </tr>\n",
       "    <tr>\n",
       "      <th>14</th>\n",
       "      <td>15</td>\n",
       "      <td>SHUBHAM</td>\n",
       "      <td>M</td>\n",
       "      <td>5</td>\n",
       "      <td>B</td>\n",
       "      <td>51.0</td>\n",
       "      <td>57</td>\n",
       "      <td>46</td>\n",
       "      <td>154.0</td>\n",
       "      <td>51.33</td>\n",
       "      <td>GOOD</td>\n",
       "    </tr>\n",
       "    <tr>\n",
       "      <th>15</th>\n",
       "      <td>16</td>\n",
       "      <td>PRATIMA</td>\n",
       "      <td>F</td>\n",
       "      <td>5</td>\n",
       "      <td>C</td>\n",
       "      <td>42.0</td>\n",
       "      <td>51</td>\n",
       "      <td>36</td>\n",
       "      <td>129.0</td>\n",
       "      <td>43.00</td>\n",
       "      <td>BAD</td>\n",
       "    </tr>\n",
       "    <tr>\n",
       "      <th>16</th>\n",
       "      <td>17</td>\n",
       "      <td>STUTI</td>\n",
       "      <td>F</td>\n",
       "      <td>5</td>\n",
       "      <td>C</td>\n",
       "      <td>40.0</td>\n",
       "      <td>46</td>\n",
       "      <td>63</td>\n",
       "      <td>149.0</td>\n",
       "      <td>49.67</td>\n",
       "      <td>BAD</td>\n",
       "    </tr>\n",
       "    <tr>\n",
       "      <th>17</th>\n",
       "      <td>18</td>\n",
       "      <td>SARFARAZ</td>\n",
       "      <td>M</td>\n",
       "      <td>5</td>\n",
       "      <td>C</td>\n",
       "      <td>53.0</td>\n",
       "      <td>47</td>\n",
       "      <td>50</td>\n",
       "      <td>150.0</td>\n",
       "      <td>50.00</td>\n",
       "      <td>BAD</td>\n",
       "    </tr>\n",
       "  </tbody>\n",
       "</table>\n",
       "</div>"
      ],
      "text/plain": [
       "    Roll no       Name Gender  Sem Batch  Sub1  Sub2  Sub3  Total  Percentage  \\\n",
       "0         1      NISHA      F    3     A  60.0    48    74  182.0       60.67   \n",
       "1         2  PRATYUSH       M    3     A  57.0    50    39  146.0       48.67   \n",
       "2         3    PUNEET       M    3     A   NaN    65    43    NaN         NaN   \n",
       "3         4     RAHUL       M    3     B  55.0    55    44  154.0       51.33   \n",
       "4         5    AKANSHA      F    3     B  59.0    45    47  151.0       50.33   \n",
       "5         6   RISHABH       M    3     B  53.0    51    55  159.0       53.00   \n",
       "6         7     ROHIT       M    3     C  48.0    54    62  164.0       54.67   \n",
       "7         8    SAKSHI       F    3     C  44.0    46    40  130.0       43.33   \n",
       "8         9   SARTHAK       M    3     C  41.0    61    63  165.0       55.00   \n",
       "9        10       TARA      F    5     A  43.0    61    38  142.0       47.33   \n",
       "10       11    SAURAV       M    5     A  55.0    45    39  139.0       46.33   \n",
       "11       12      SWDHA      F    5     A  50.0    49    52  151.0       50.33   \n",
       "12       13    SHIVAM       M    5     B  58.0    58    65  181.0       60.33   \n",
       "13       14      SNEHA      F    5     B  59.0    63    49  171.0       57.00   \n",
       "14       15   SHUBHAM       M    5     B  51.0    57    46  154.0       51.33   \n",
       "15       16    PRATIMA      F    5     C  42.0    51    36  129.0       43.00   \n",
       "16       17      STUTI      F    5     C  40.0    46    63  149.0       49.67   \n",
       "17       18   SARFARAZ      M    5     C  53.0    47    50  150.0       50.00   \n",
       "\n",
       "   Result  \n",
       "0    GOOD  \n",
       "1     BAD  \n",
       "2     BAD  \n",
       "3    GOOD  \n",
       "4    GOOD  \n",
       "5    GOOD  \n",
       "6    GOOD  \n",
       "7     BAD  \n",
       "8    GOOD  \n",
       "9     BAD  \n",
       "10    BAD  \n",
       "11   GOOD  \n",
       "12   GOOD  \n",
       "13   GOOD  \n",
       "14   GOOD  \n",
       "15    BAD  \n",
       "16    BAD  \n",
       "17    BAD  "
      ]
     },
     "execution_count": 86,
     "metadata": {},
     "output_type": "execute_result"
    }
   ],
   "source": [
    "#Use apply and transform function\n",
    "df1['Total'] = df1.apply(lambda x:x['Sub1']+x['Sub2']+x['Sub3'],axis=1)\n",
    "df1['Percentage'] = df1.apply(lambda x:round((x['Total']/300)*100,2),axis=1)\n",
    "df1['Result'] = df1['Percentage'].transform(lambda x:'GOOD' if (x>50) else 'BAD')\n",
    "df1"
   ]
  },
  {
   "cell_type": "code",
   "execution_count": 87,
   "metadata": {},
   "outputs": [
    {
     "data": {
      "image/png": "[encoded data removed]",
      "text/plain": [
       "<Figure size 432x288 with 9 Axes>"
      ]
     },
     "metadata": {
      "needs_background": "light"
     },
     "output_type": "display_data"
    }
   ],
   "source": [
    "df1.hist()\n",
    "plt.show()"
   ]
  },
  {
   "cell_type": "code",
   "execution_count": 62,
   "metadata": {},
   "outputs": [
    {
     "data": {
      "text/plain": [
       "<BarContainer object of 18 artists>"
      ]
     },
     "execution_count": 62,
     "metadata": {},
     "output_type": "execute_result"
    },
    {
     "data": {
      "image/png": "[encoded data removed]",
      "text/plain": [
       "<Figure size 432x288 with 1 Axes>"
      ]
     },
     "metadata": {
      "needs_background": "light"
     },
     "output_type": "display_data"
    }
   ],
   "source": [
    "plt.bar(df1['Roll no'],df1['Total'])\n",
    "plt.bar(df1['Roll no'],df1['Percentage'])"
   ]
  },
  {
   "cell_type": "code",
   "execution_count": 63,
   "metadata": {},
   "outputs": [
    {
     "data": {
      "text/plain": [
       "[<matplotlib.lines.Line2D at 0x1b9f23a0ac0>]"
      ]
     },
     "execution_count": 63,
     "metadata": {},
     "output_type": "execute_result"
    },
    {
     "data": {
      "image/png": "[encoded data removed]",
      "text/plain": [
       "<Figure size 432x288 with 1 Axes>"
      ]
     },
     "metadata": {
      "needs_background": "light"
     },
     "output_type": "display_data"
    }
   ],
   "source": [
    "plt.plot(df1['Roll no'],df1['Total'])"
   ]
  },
  {
   "cell_type": "code",
   "execution_count": 64,
   "metadata": {},
   "outputs": [
    {
     "data": {
      "text/plain": [
       "[<matplotlib.lines.Line2D at 0x1b9ee89ec10>]"
      ]
     },
     "execution_count": 64,
     "metadata": {},
     "output_type": "execute_result"
    },
    {
     "data": {
      "image/png": "[encoded data removed]",
      "text/plain": [
       "<Figure size 432x288 with 1 Axes>"
      ]
     },
     "metadata": {
      "needs_background": "light"
     },
     "output_type": "display_data"
    }
   ],
   "source": [
    "plt.plot(df1['Roll no'],df1['Percentage'])"
   ]
  },
  {
   "cell_type": "code",
   "execution_count": 65,
   "metadata": {},
   "outputs": [
    {
     "data": {
      "text/plain": [
       "<matplotlib.axes._subplots.AxesSubplot at 0x1b9f22c88e0>"
      ]
     },
     "execution_count": 65,
     "metadata": {},
     "output_type": "execute_result"
    },
    {
     "data": {
      "image/png": "[encoded data removed]",
      "text/plain": [
       "<Figure size 432x288 with 1 Axes>"
      ]
     },
     "metadata": {
      "needs_background": "light"
     },
     "output_type": "display_data"
    }
   ],
   "source": [
    "df1.boxplot()"
   ]
  },
  {
   "cell_type": "code",
   "execution_count": 66,
   "metadata": {},
   "outputs": [
    {
     "data": {
      "image/png": "[encoded data removed]",
      "text/plain": [
       "<Figure size 432x288 with 1 Axes>"
      ]
     },
     "metadata": {},
     "output_type": "display_data"
    }
   ],
   "source": [
    "grp=df1.groupby('Sem')\n",
    "f=grp['Result'].value_counts()\n",
    "plt.pie(f,labels=f.index,autopct='%.1f%%')\n",
    "plt.show()"
   ]
  },
  {
   "cell_type": "code",
   "execution_count": 67,
   "metadata": {
    "scrolled": false
   },
   "outputs": [
    {
     "data": {
      "image/png": "[encoded data removed]",
      "text/plain": [
       "<Figure size 432x288 with 49 Axes>"
      ]
     },
     "metadata": {
      "needs_background": "light"
     },
     "output_type": "display_data"
    }
   ],
   "source": [
    "scatter_matrix(df1)\n",
    "plt.show()"
   ]
  },
  {
   "cell_type": "code",
   "execution_count": null,
   "metadata": {},
   "outputs": [],
   "source": []
  }
 ],
 "metadata": {
  "kernelspec": {
   "display_name": "Python 3",
   "language": "python",
   "name": "python3"
  },
  "language_info": {
   "codemirror_mode": {
    "name": "ipython",
    "version": 3
   },
   "file_extension": ".py",
   "mimetype": "text/x-python",
   "name": "python",
   "nbconvert_exporter": "python",
   "pygments_lexer": "ipython3",
   "version": "3.8.3"
  }
 },
 "nbformat": 4,
 "nbformat_minor": 4
}
